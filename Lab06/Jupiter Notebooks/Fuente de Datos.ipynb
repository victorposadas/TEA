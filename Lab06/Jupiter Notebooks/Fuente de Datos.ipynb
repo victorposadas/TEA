{
 "cells": [
  {
   "cell_type": "code",
   "execution_count": 2,
   "id": "6c22b37e",
   "metadata": {},
   "outputs": [],
   "source": [
    "import pandas as pd"
   ]
  },
  {
   "cell_type": "code",
   "execution_count": 3,
   "id": "6d21feb3",
   "metadata": {},
   "outputs": [],
   "source": [
    "from matplotlib import pyplot as plt"
   ]
  },
  {
   "cell_type": "code",
   "execution_count": 4,
   "id": "e14e6077",
   "metadata": {},
   "outputs": [],
   "source": [
    "# Ya se importaron librerias\n",
    "# ahora procedemos a subir la primer fuente de datos (clean data v2.csv) a la memoria"
   ]
  },
  {
   "cell_type": "code",
   "execution_count": 5,
   "id": "350eca9d",
   "metadata": {},
   "outputs": [],
   "source": [
    "v2 = pd.read_csv(\"clean data v2.csv\")"
   ]
  },
  {
   "cell_type": "code",
   "execution_count": 6,
   "id": "f9c34907",
   "metadata": {},
   "outputs": [
    {
     "data": {
      "text/html": [
       "<div>\n",
       "<style scoped>\n",
       "    .dataframe tbody tr th:only-of-type {\n",
       "        vertical-align: middle;\n",
       "    }\n",
       "\n",
       "    .dataframe tbody tr th {\n",
       "        vertical-align: top;\n",
       "    }\n",
       "\n",
       "    .dataframe thead th {\n",
       "        text-align: right;\n",
       "    }\n",
       "</style>\n",
       "<table border=\"1\" class=\"dataframe\">\n",
       "  <thead>\n",
       "    <tr style=\"text-align: right;\">\n",
       "      <th></th>\n",
       "      <th>Edad;Estatura;Sexo;Peso(lbs);Ano</th>\n",
       "    </tr>\n",
       "  </thead>\n",
       "  <tbody>\n",
       "    <tr>\n",
       "      <th>0</th>\n",
       "      <td>18 a 22 Anos;1.62;Femenino;114;Segundo Ano</td>\n",
       "    </tr>\n",
       "    <tr>\n",
       "      <th>1</th>\n",
       "      <td>18 a 22 Anos;1.9;Masculino;210;Segundo Ano</td>\n",
       "    </tr>\n",
       "    <tr>\n",
       "      <th>2</th>\n",
       "      <td>18 a 22 Anos;1.75;Masculino;133;Segundo Ano</td>\n",
       "    </tr>\n",
       "    <tr>\n",
       "      <th>3</th>\n",
       "      <td>18 a 22 Anos;1.6;Femenino;130;Segundo Ano</td>\n",
       "    </tr>\n",
       "    <tr>\n",
       "      <th>4</th>\n",
       "      <td>18 a 22 Anos;1.75;Masculino;155;Segundo Ano</td>\n",
       "    </tr>\n",
       "    <tr>\n",
       "      <th>...</th>\n",
       "      <td>...</td>\n",
       "    </tr>\n",
       "    <tr>\n",
       "      <th>78</th>\n",
       "      <td>18 a 22 Anos;1.52;Femenino;122;Segundo Ano</td>\n",
       "    </tr>\n",
       "    <tr>\n",
       "      <th>79</th>\n",
       "      <td>18 a 22 Anos;1.69;Masculino;135;Segundo Ano</td>\n",
       "    </tr>\n",
       "    <tr>\n",
       "      <th>80</th>\n",
       "      <td>18 a 22 Anos;1.56;Femenino;130;Segundo Ano</td>\n",
       "    </tr>\n",
       "    <tr>\n",
       "      <th>81</th>\n",
       "      <td>18 a 22 Anos;1.6;Femenino;153;Primer Ano</td>\n",
       "    </tr>\n",
       "    <tr>\n",
       "      <th>82</th>\n",
       "      <td>18 a 22 Anos;1.9;Masculino;210;Primer Ano</td>\n",
       "    </tr>\n",
       "  </tbody>\n",
       "</table>\n",
       "<p>83 rows × 1 columns</p>\n",
       "</div>"
      ],
      "text/plain": [
       "               Edad;Estatura;Sexo;Peso(lbs);Ano\n",
       "0    18 a 22 Anos;1.62;Femenino;114;Segundo Ano\n",
       "1    18 a 22 Anos;1.9;Masculino;210;Segundo Ano\n",
       "2   18 a 22 Anos;1.75;Masculino;133;Segundo Ano\n",
       "3     18 a 22 Anos;1.6;Femenino;130;Segundo Ano\n",
       "4   18 a 22 Anos;1.75;Masculino;155;Segundo Ano\n",
       "..                                          ...\n",
       "78   18 a 22 Anos;1.52;Femenino;122;Segundo Ano\n",
       "79  18 a 22 Anos;1.69;Masculino;135;Segundo Ano\n",
       "80   18 a 22 Anos;1.56;Femenino;130;Segundo Ano\n",
       "81     18 a 22 Anos;1.6;Femenino;153;Primer Ano\n",
       "82    18 a 22 Anos;1.9;Masculino;210;Primer Ano\n",
       "\n",
       "[83 rows x 1 columns]"
      ]
     },
     "execution_count": 6,
     "metadata": {},
     "output_type": "execute_result"
    }
   ],
   "source": [
    "v2"
   ]
  },
  {
   "cell_type": "code",
   "execution_count": 7,
   "id": "b368f7b4",
   "metadata": {},
   "outputs": [
    {
     "data": {
      "text/plain": [
       "pandas.core.frame.DataFrame"
      ]
     },
     "execution_count": 7,
     "metadata": {},
     "output_type": "execute_result"
    }
   ],
   "source": [
    "type(v2)"
   ]
  },
  {
   "cell_type": "code",
   "execution_count": null,
   "id": "ffd70200",
   "metadata": {},
   "outputs": [],
   "source": [
    "# Primer serie de datos en un dataframe de pandas"
   ]
  }
 ],
 "metadata": {
  "kernelspec": {
   "display_name": "Python 3 (ipykernel)",
   "language": "python",
   "name": "python3"
  },
  "language_info": {
   "codemirror_mode": {
    "name": "ipython",
    "version": 3
   },
   "file_extension": ".py",
   "mimetype": "text/x-python",
   "name": "python",
   "nbconvert_exporter": "python",
   "pygments_lexer": "ipython3",
   "version": "3.9.12"
  }
 },
 "nbformat": 4,
 "nbformat_minor": 5
}
