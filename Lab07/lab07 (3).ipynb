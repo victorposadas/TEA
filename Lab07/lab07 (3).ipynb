{
  "metadata": {
    "language_info": {
      "codemirror_mode": {
        "name": "python",
        "version": 3
      },
      "file_extension": ".py",
      "mimetype": "text/x-python",
      "name": "python",
      "nbconvert_exporter": "python",
      "pygments_lexer": "ipython3",
      "version": "3.8"
    },
    "kernelspec": {
      "name": "python",
      "display_name": "Python (Pyodide)",
      "language": "python"
    }
  },
  "nbformat_minor": 4,
  "nbformat": 4,
  "cells": [
    {
      "cell_type": "code",
      "source": "import pandas as pd\nfrom matplotlib import pyplot as plt\nimport numpy as np\nvfinal = pd.read_csv(\"vfinal.csv\")",
      "metadata": {
        "trusted": true
      },
      "execution_count": 1,
      "outputs": []
    },
    {
      "cell_type": "code",
      "source": "vfinal",
      "metadata": {
        "trusted": true
      },
      "execution_count": 2,
      "outputs": [
        {
          "execution_count": 2,
          "output_type": "execute_result",
          "data": {
            "text/plain": "    rango_edad  estatura_m       sexo  peso_lbs  curso\n0      18 a 22        1.62   Femenino     114.0      2\n1      18 a 22        1.90  Masculino     210.0      2\n2      18 a 22        1.75  Masculino     133.0      2\n3      18 a 22        1.60   Femenino     130.0      2\n4      18 a 22        1.75  Masculino     155.0      2\n..         ...         ...        ...       ...    ...\n254    18 a 22        1.70   Femenino     150.0      3\n255    18 a 22        1.69   Femenino     135.0      3\n256    18 a 22        1.76  Masculino     164.0      3\n257    18 a 22        1.66  Masculino     140.0      3\n258    18 a 22        1.54  Masculino     140.0      3\n\n[259 rows x 5 columns]",
            "text/html": "<div>\n<style scoped>\n    .dataframe tbody tr th:only-of-type {\n        vertical-align: middle;\n    }\n\n    .dataframe tbody tr th {\n        vertical-align: top;\n    }\n\n    .dataframe thead th {\n        text-align: right;\n    }\n</style>\n<table border=\"1\" class=\"dataframe\">\n  <thead>\n    <tr style=\"text-align: right;\">\n      <th></th>\n      <th>rango_edad</th>\n      <th>estatura_m</th>\n      <th>sexo</th>\n      <th>peso_lbs</th>\n      <th>curso</th>\n    </tr>\n  </thead>\n  <tbody>\n    <tr>\n      <th>0</th>\n      <td>18 a 22</td>\n      <td>1.62</td>\n      <td>Femenino</td>\n      <td>114.0</td>\n      <td>2</td>\n    </tr>\n    <tr>\n      <th>1</th>\n      <td>18 a 22</td>\n      <td>1.90</td>\n      <td>Masculino</td>\n      <td>210.0</td>\n      <td>2</td>\n    </tr>\n    <tr>\n      <th>2</th>\n      <td>18 a 22</td>\n      <td>1.75</td>\n      <td>Masculino</td>\n      <td>133.0</td>\n      <td>2</td>\n    </tr>\n    <tr>\n      <th>3</th>\n      <td>18 a 22</td>\n      <td>1.60</td>\n      <td>Femenino</td>\n      <td>130.0</td>\n      <td>2</td>\n    </tr>\n    <tr>\n      <th>4</th>\n      <td>18 a 22</td>\n      <td>1.75</td>\n      <td>Masculino</td>\n      <td>155.0</td>\n      <td>2</td>\n    </tr>\n    <tr>\n      <th>...</th>\n      <td>...</td>\n      <td>...</td>\n      <td>...</td>\n      <td>...</td>\n      <td>...</td>\n    </tr>\n    <tr>\n      <th>254</th>\n      <td>18 a 22</td>\n      <td>1.70</td>\n      <td>Femenino</td>\n      <td>150.0</td>\n      <td>3</td>\n    </tr>\n    <tr>\n      <th>255</th>\n      <td>18 a 22</td>\n      <td>1.69</td>\n      <td>Femenino</td>\n      <td>135.0</td>\n      <td>3</td>\n    </tr>\n    <tr>\n      <th>256</th>\n      <td>18 a 22</td>\n      <td>1.76</td>\n      <td>Masculino</td>\n      <td>164.0</td>\n      <td>3</td>\n    </tr>\n    <tr>\n      <th>257</th>\n      <td>18 a 22</td>\n      <td>1.66</td>\n      <td>Masculino</td>\n      <td>140.0</td>\n      <td>3</td>\n    </tr>\n    <tr>\n      <th>258</th>\n      <td>18 a 22</td>\n      <td>1.54</td>\n      <td>Masculino</td>\n      <td>140.0</td>\n      <td>3</td>\n    </tr>\n  </tbody>\n</table>\n<p>259 rows × 5 columns</p>\n</div>"
          },
          "metadata": {}
        }
      ]
    },
    {
      "cell_type": "code",
      "source": "primero = vfinal[vfinal.curso == 1]",
      "metadata": {
        "trusted": true
      },
      "execution_count": 29,
      "outputs": []
    },
    {
      "cell_type": "code",
      "source": "m1 = np.mean(primero.peso_lbs)",
      "metadata": {
        "trusted": true
      },
      "execution_count": 30,
      "outputs": []
    },
    {
      "cell_type": "code",
      "source": "m1",
      "metadata": {
        "trusted": true
      },
      "execution_count": 31,
      "outputs": [
        {
          "execution_count": 31,
          "output_type": "execute_result",
          "data": {
            "text/plain": "148.36904761904762"
          },
          "metadata": {}
        }
      ]
    },
    {
      "cell_type": "code",
      "source": "segundo = vfinal[vfinal.curso == 2]\nm2 = np.mean(segundo.peso_lbs)\nm2",
      "metadata": {
        "trusted": true
      },
      "execution_count": 32,
      "outputs": [
        {
          "execution_count": 32,
          "output_type": "execute_result",
          "data": {
            "text/plain": "147.8681818181818"
          },
          "metadata": {}
        }
      ]
    },
    {
      "cell_type": "code",
      "source": "tercero = vfinal[vfinal.curso == 3]\nm3 = np.mean(tercero.peso_lbs)\nm3",
      "metadata": {
        "trusted": true
      },
      "execution_count": 33,
      "outputs": [
        {
          "execution_count": 33,
          "output_type": "execute_result",
          "data": {
            "text/plain": "159.13432835820896"
          },
          "metadata": {}
        }
      ]
    },
    {
      "cell_type": "code",
      "source": "# ploteando grafico",
      "metadata": {
        "trusted": true
      },
      "execution_count": 34,
      "outputs": []
    },
    {
      "cell_type": "code",
      "source": "ig, ax = plt.subplots()\npesos = [m1, m2, m3]\nano = [\"Primero\", \"Segundo\", \"Tercero\"]\nax.bar(ano, pesos)\n\nax.set(xlabel = \"Año\", ylabel = \"Peso (lbs)\", title = \"Peso Promedio Según Año, Estudiantes Zamorano\")\n\nplt.show()",
      "metadata": {
        "trusted": true
      },
      "execution_count": null,
      "outputs": []
    },
    {
      "cell_type": "code",
      "source": "",
      "metadata": {},
      "execution_count": null,
      "outputs": []
    }
  ]
}